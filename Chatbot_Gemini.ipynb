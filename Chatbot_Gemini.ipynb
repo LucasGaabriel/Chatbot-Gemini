{
  "nbformat": 4,
  "nbformat_minor": 0,
  "metadata": {
    "colab": {
      "provenance": [],
      "authorship_tag": "ABX9TyPPFO5WCOIloR6KrhNWAadr",
      "include_colab_link": true
    },
    "kernelspec": {
      "name": "python3",
      "display_name": "Python 3"
    },
    "language_info": {
      "name": "python"
    }
  },
  "cells": [
    {
      "cell_type": "markdown",
      "metadata": {
        "id": "view-in-github",
        "colab_type": "text"
      },
      "source": [
        "<a href=\"https://colab.research.google.com/github/LucasGaabriel/Chatbot-Gemini/blob/main/Chatbot_Gemini.ipynb\" target=\"_parent\"><img src=\"https://colab.research.google.com/assets/colab-badge.svg\" alt=\"Open In Colab\"/></a>"
      ]
    },
    {
      "cell_type": "markdown",
      "source": [
        "### Inicialização e configuração da API KEY"
      ],
      "metadata": {
        "id": "vocj_ZJr2ReT"
      }
    },
    {
      "cell_type": "code",
      "source": [
        "!pip install -q -U google-generativeai"
      ],
      "metadata": {
        "id": "zne7b9S49AMa"
      },
      "execution_count": null,
      "outputs": []
    },
    {
      "cell_type": "code",
      "source": [
        "import google.generativeai as genai\n",
        "from google.colab import userdata\n",
        "\n",
        "import textwrap\n",
        "from IPython.display import display, Markdown\n",
        "\n",
        "GOOGLE_API_KEY=userdata.get('GOOGLE_API_KEY')\n",
        "genai.configure(api_key=GOOGLE_API_KEY)\n",
        "\n",
        "def to_markdown(text):\n",
        "    text = text.replace('•', '  *')\n",
        "    return Markdown(textwrap.indent(text, '> ', predicate=lambda _: True))"
      ],
      "metadata": {
        "id": "778C0B5C08Ap"
      },
      "execution_count": null,
      "outputs": []
    },
    {
      "cell_type": "markdown",
      "source": [
        "### Lista os modelos disponíveis"
      ],
      "metadata": {
        "id": "xxXNyTZw2GXu"
      }
    },
    {
      "cell_type": "code",
      "source": [
        "for m in genai.list_models():\n",
        "  if 'generateContent' in m.supported_generation_methods:\n",
        "    print(m.name)"
      ],
      "metadata": {
        "id": "EXorNhjo2AnK"
      },
      "execution_count": null,
      "outputs": []
    },
    {
      "cell_type": "markdown",
      "source": [
        "### Configurações do Modelo"
      ],
      "metadata": {
        "id": "iLKdEZi53_dg"
      }
    },
    {
      "cell_type": "code",
      "source": [
        "generation_config = {\n",
        "    'candidate_count': 1,\n",
        "    'temperature': 0.5,\n",
        "    # 'top_p': 0.92,\n",
        "    # 'top_k': 30,\n",
        "}\n",
        "\n",
        "safety_settings = {\n",
        "    'HARASSMENT': 'BLOCK_NONE',\n",
        "    'HATE': 'BLOCK_NONE',\n",
        "    'SEXUAL': 'BLOCK_NONE',\n",
        "    'DANGEROUS': 'BLOCK_NONE',\n",
        "}"
      ],
      "metadata": {
        "id": "O6cTUPu63LQ-"
      },
      "execution_count": null,
      "outputs": []
    },
    {
      "cell_type": "markdown",
      "source": [
        "### Inicializando o Modelo"
      ],
      "metadata": {
        "id": "8-cdIo7L4ZBf"
      }
    },
    {
      "cell_type": "code",
      "source": [
        "model = genai.GenerativeModel(model_name='gemini-1.0-pro',\n",
        "                              generation_config=generation_config,\n",
        "                              safety_settings=safety_settings)"
      ],
      "metadata": {
        "id": "3GxH1tbg4arI"
      },
      "execution_count": null,
      "outputs": []
    },
    {
      "cell_type": "markdown",
      "source": [
        "### Geração de Conteúdo"
      ],
      "metadata": {
        "id": "q2Vi_PLq48iY"
      }
    },
    {
      "cell_type": "code",
      "source": [
        "response = model.generate_content('Vamos aprender sobre conteúdo de IA. Me dê sugestões.')\n",
        "display(to_markdown(response.text))"
      ],
      "metadata": {
        "id": "FeMt4IiS4-v-"
      },
      "execution_count": null,
      "outputs": []
    },
    {
      "cell_type": "markdown",
      "source": [
        "### Chatbot"
      ],
      "metadata": {
        "id": "OkXkGpVM55UF"
      }
    },
    {
      "cell_type": "code",
      "source": [
        "print('### Chatbot com Gemini ###\\n')\n",
        "chat = model.start_chat(history=[])\n",
        "\n",
        "while True:\n",
        "  prompt = input('Esperando prompt: ')\n",
        "\n",
        "  if not prompt:\n",
        "    print('\\n### Chatbot Encerrado ###')\n",
        "    break\n",
        "\n",
        "  response = chat.send_message(prompt)\n",
        "\n",
        "  print('\\nResposta:')\n",
        "  display(to_markdown(response.text))\n",
        "  print()"
      ],
      "metadata": {
        "id": "nnEqF7qJ5mcp"
      },
      "execution_count": null,
      "outputs": []
    },
    {
      "cell_type": "markdown",
      "source": [
        "### Exibição do Histórico"
      ],
      "metadata": {
        "id": "2lXFdeMx-D-0"
      }
    },
    {
      "cell_type": "code",
      "source": [
        "for message in chat.history:\n",
        "    display(to_markdown(f'**{message.role}**: {message.parts[0].text}'))\n",
        "    print('------------------------')"
      ],
      "metadata": {
        "id": "k09U6Mfu9cKz"
      },
      "execution_count": null,
      "outputs": []
    }
  ]
}